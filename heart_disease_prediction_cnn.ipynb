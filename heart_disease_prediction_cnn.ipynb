{
 "cells": [
  {
   "cell_type": "code",
   "execution_count": 1,
   "metadata": {
    "id": "-I1jcm0CfTJr"
   },
   "outputs": [],
   "source": [
    "import os\n",
    "import cv2\n",
    "import numpy as np"
   ]
  },
  {
   "cell_type": "markdown",
   "metadata": {
    "id": "S4u2KvtJfMyX"
   },
   "source": [
    "Defining preprocessing function"
   ]
  },
  {
   "cell_type": "code",
   "execution_count": 2,
   "metadata": {
    "id": "5SegxjnkfV3Q"
   },
   "outputs": [],
   "source": [
    "\n",
    "def preprocess_image(image_path,target_size=(224,224)):\n",
    "    image=cv2.imread(image_path)\n",
    "    image=cv2.resize(image,target_size)\n",
    "    image=image.astype(np.float32) / 255.0\n",
    "    return image"
   ]
  },
  {
   "cell_type": "markdown",
   "metadata": {
    "id": "j0zPSA9lff_x"
   },
   "source": [
    "Loading and preprocessing the Image"
   ]
  },
  {
   "cell_type": "code",
   "execution_count": 3,
   "metadata": {
    "id": "NSrfAjn9fsOS"
   },
   "outputs": [],
   "source": [
    "\n",
    "image_dir='./Cardiac_dataset'\n",
    "image_paths=[os.path.join(image_dir,filename) for filename in os.listdir(image_dir) if filename.endswith('.jpg')]\n",
    "preprocessed_images=[]\n",
    "labels=[]\n",
    "for image_path in image_paths:\n",
    "    preprocessed_images.append(preprocess_image(image_path))\n",
    "    if \"Normal\" in image_path:\n",
    "        labels.append(0)  # Assigning the label 0 for \"healthy\" images\n",
    "    else:\n",
    "        labels.append(1)  # Assigning the label 1 for \"diseased\" images\n",
    "X=np.array(preprocessed_images)\n",
    "y=np.array(labels)"
   ]
  },
  {
   "cell_type": "markdown",
   "metadata": {
    "id": "rVNItwucgXBk"
   },
   "source": [
    "Data Splitting"
   ]
  },
  {
   "cell_type": "code",
   "execution_count": 4,
   "metadata": {
    "id": "4DzV4ifwgetX"
   },
   "outputs": [],
   "source": [
    "from sklearn.model_selection import train_test_split\n",
    "X_train, X_temp, y_train, y_temp = train_test_split(X, y, test_size=0.3, random_state=42)\n",
    "X_val, X_test, y_val, y_test = train_test_split(X_temp, y_temp, test_size=0.5, random_state=42)"
   ]
  },
  {
   "cell_type": "markdown",
   "metadata": {
    "id": "DHXR9mpxgyKs"
   },
   "source": [
    "Training Our model with features like max pooling, fully connected neural networks and learning rate sheduling"
   ]
  },
  {
   "cell_type": "code",
   "execution_count": 5,
   "metadata": {
    "colab": {
     "base_uri": "https://localhost:8080/"
    },
    "id": "CmDupbjGhsGx",
    "outputId": "3ecf9518-7e07-4c7a-e2ec-b9837a71f206"
   },
   "outputs": [
    {
     "name": "stderr",
     "output_type": "stream",
     "text": [
      "/Library/Frameworks/Python.framework/Versions/3.12/lib/python3.12/site-packages/keras/src/layers/convolutional/base_conv.py:107: UserWarning: Do not pass an `input_shape`/`input_dim` argument to a layer. When using Sequential models, prefer using an `Input(shape)` object as the first layer in the model instead.\n",
      "  super().__init__(activity_regularizer=activity_regularizer, **kwargs)\n"
     ]
    },
    {
     "name": "stdout",
     "output_type": "stream",
     "text": [
      "Epoch 1/100\n",
      "\u001b[1m21/21\u001b[0m \u001b[32m━━━━━━━━━━━━━━━━━━━━\u001b[0m\u001b[37m\u001b[0m \u001b[1m11s\u001b[0m 493ms/step - accuracy: 0.6765 - loss: 0.6940 - val_accuracy: 0.7194 - val_loss: 0.5893\n",
      "Epoch 2/100\n",
      "\u001b[1m21/21\u001b[0m \u001b[32m━━━━━━━━━━━━━━━━━━━━\u001b[0m\u001b[37m\u001b[0m \u001b[1m9s\u001b[0m 422ms/step - accuracy: 0.6611 - loss: 0.6429 - val_accuracy: 0.7194 - val_loss: 0.5745\n",
      "Epoch 3/100\n",
      "\u001b[1m21/21\u001b[0m \u001b[32m━━━━━━━━━━━━━━━━━━━━\u001b[0m\u001b[37m\u001b[0m \u001b[1m9s\u001b[0m 408ms/step - accuracy: 0.6864 - loss: 0.5848 - val_accuracy: 0.7194 - val_loss: 0.5285\n",
      "Epoch 4/100\n",
      "\u001b[1m21/21\u001b[0m \u001b[32m━━━━━━━━━━━━━━━━━━━━\u001b[0m\u001b[37m\u001b[0m \u001b[1m8s\u001b[0m 396ms/step - accuracy: 0.7109 - loss: 0.5179 - val_accuracy: 0.7338 - val_loss: 0.4810\n",
      "Epoch 5/100\n",
      "\u001b[1m21/21\u001b[0m \u001b[32m━━━━━━━━━━━━━━━━━━━━\u001b[0m\u001b[37m\u001b[0m \u001b[1m8s\u001b[0m 402ms/step - accuracy: 0.7116 - loss: 0.4704 - val_accuracy: 0.7410 - val_loss: 0.4278\n",
      "Epoch 6/100\n",
      "\u001b[1m21/21\u001b[0m \u001b[32m━━━━━━━━━━━━━━━━━━━━\u001b[0m\u001b[37m\u001b[0m \u001b[1m8s\u001b[0m 404ms/step - accuracy: 0.7993 - loss: 0.4068 - val_accuracy: 0.8849 - val_loss: 0.3685\n",
      "Epoch 7/100\n",
      "\u001b[1m21/21\u001b[0m \u001b[32m━━━━━━━━━━━━━━━━━━━━\u001b[0m\u001b[37m\u001b[0m \u001b[1m9s\u001b[0m 419ms/step - accuracy: 0.9026 - loss: 0.3330 - val_accuracy: 0.8849 - val_loss: 0.3183\n",
      "Epoch 8/100\n",
      "\u001b[1m21/21\u001b[0m \u001b[32m━━━━━━━━━━━━━━━━━━━━\u001b[0m\u001b[37m\u001b[0m \u001b[1m9s\u001b[0m 420ms/step - accuracy: 0.9085 - loss: 0.2789 - val_accuracy: 0.8993 - val_loss: 0.2850\n",
      "Epoch 9/100\n",
      "\u001b[1m21/21\u001b[0m \u001b[32m━━━━━━━━━━━━━━━━━━━━\u001b[0m\u001b[37m\u001b[0m \u001b[1m9s\u001b[0m 430ms/step - accuracy: 0.9325 - loss: 0.2388 - val_accuracy: 0.8058 - val_loss: 0.4034\n",
      "Epoch 10/100\n",
      "\u001b[1m21/21\u001b[0m \u001b[32m━━━━━━━━━━━━━━━━━━━━\u001b[0m\u001b[37m\u001b[0m \u001b[1m9s\u001b[0m 418ms/step - accuracy: 0.8646 - loss: 0.2844 - val_accuracy: 0.9137 - val_loss: 0.2625\n",
      "Epoch 11/100\n",
      "\u001b[1m21/21\u001b[0m \u001b[32m━━━━━━━━━━━━━━━━━━━━\u001b[0m\u001b[37m\u001b[0m \u001b[1m9s\u001b[0m 425ms/step - accuracy: 0.9588 - loss: 0.1719 - val_accuracy: 0.9209 - val_loss: 0.2339\n",
      "Epoch 12/100\n",
      "\u001b[1m21/21\u001b[0m \u001b[32m━━━━━━━━━━━━━━━━━━━━\u001b[0m\u001b[37m\u001b[0m \u001b[1m10s\u001b[0m 486ms/step - accuracy: 0.9458 - loss: 0.1586 - val_accuracy: 0.9209 - val_loss: 0.2317\n",
      "Epoch 13/100\n",
      "\u001b[1m21/21\u001b[0m \u001b[32m━━━━━━━━━━━━━━━━━━━━\u001b[0m\u001b[37m\u001b[0m \u001b[1m10s\u001b[0m 479ms/step - accuracy: 0.9300 - loss: 0.1740 - val_accuracy: 0.9137 - val_loss: 0.2371\n",
      "Epoch 14/100\n",
      "\u001b[1m21/21\u001b[0m \u001b[32m━━━━━━━━━━━━━━━━━━━━\u001b[0m\u001b[37m\u001b[0m \u001b[1m10s\u001b[0m 469ms/step - accuracy: 0.9704 - loss: 0.1300 - val_accuracy: 0.8993 - val_loss: 0.2444\n",
      "Epoch 15/100\n",
      "\u001b[1m21/21\u001b[0m \u001b[32m━━━━━━━━━━━━━━━━━━━━\u001b[0m\u001b[37m\u001b[0m \u001b[1m10s\u001b[0m 482ms/step - accuracy: 0.9741 - loss: 0.1226 - val_accuracy: 0.9281 - val_loss: 0.1995\n",
      "Epoch 16/100\n",
      "\u001b[1m21/21\u001b[0m \u001b[32m━━━━━━━━━━━━━━━━━━━━\u001b[0m\u001b[37m\u001b[0m \u001b[1m12s\u001b[0m 545ms/step - accuracy: 0.9764 - loss: 0.1038 - val_accuracy: 0.9281 - val_loss: 0.1921\n",
      "Epoch 17/100\n",
      "\u001b[1m21/21\u001b[0m \u001b[32m━━━━━━━━━━━━━━━━━━━━\u001b[0m\u001b[37m\u001b[0m \u001b[1m13s\u001b[0m 600ms/step - accuracy: 0.9838 - loss: 0.0888 - val_accuracy: 0.9496 - val_loss: 0.2096\n",
      "Epoch 18/100\n",
      "\u001b[1m21/21\u001b[0m \u001b[32m━━━━━━━━━━━━━━━━━━━━\u001b[0m\u001b[37m\u001b[0m \u001b[1m13s\u001b[0m 602ms/step - accuracy: 0.9799 - loss: 0.0926 - val_accuracy: 0.9209 - val_loss: 0.1883\n",
      "Epoch 19/100\n",
      "\u001b[1m21/21\u001b[0m \u001b[32m━━━━━━━━━━━━━━━━━━━━\u001b[0m\u001b[37m\u001b[0m \u001b[1m14s\u001b[0m 657ms/step - accuracy: 0.9886 - loss: 0.0795 - val_accuracy: 0.9353 - val_loss: 0.1735\n",
      "Epoch 20/100\n",
      "\u001b[1m21/21\u001b[0m \u001b[32m━━━━━━━━━━━━━━━━━━━━\u001b[0m\u001b[37m\u001b[0m \u001b[1m15s\u001b[0m 706ms/step - accuracy: 0.9941 - loss: 0.0620 - val_accuracy: 0.9209 - val_loss: 0.2184\n",
      "Epoch 21/100\n",
      "\u001b[1m21/21\u001b[0m \u001b[32m━━━━━━━━━━━━━━━━━━━━\u001b[0m\u001b[37m\u001b[0m \u001b[1m13s\u001b[0m 625ms/step - accuracy: 0.9908 - loss: 0.0808 - val_accuracy: 0.9424 - val_loss: 0.1724\n",
      "Epoch 22/100\n",
      "\u001b[1m21/21\u001b[0m \u001b[32m━━━━━━━━━━━━━━━━━━━━\u001b[0m\u001b[37m\u001b[0m \u001b[1m12s\u001b[0m 583ms/step - accuracy: 0.9968 - loss: 0.0557 - val_accuracy: 0.9496 - val_loss: 0.1622\n",
      "\u001b[1m5/5\u001b[0m \u001b[32m━━━━━━━━━━━━━━━━━━━━\u001b[0m\u001b[37m\u001b[0m \u001b[1m1s\u001b[0m 129ms/step - accuracy: 0.9458 - loss: 0.2060\n",
      "Test accuracy: 0.9428571462631226\n",
      "\u001b[1m5/5\u001b[0m \u001b[32m━━━━━━━━━━━━━━━━━━━━\u001b[0m\u001b[37m\u001b[0m \u001b[1m1s\u001b[0m 139ms/step\n"
     ]
    }
   ],
   "source": [
    "import tensorflow as tf\n",
    "from tensorflow import keras\n",
    "from tensorflow.keras import layers\n",
    "model = keras.Sequential()\n",
    "model.add(layers.Conv2D(32,(3,3),activation='relu',input_shape=(224,224,3)))\n",
    "model.add(layers.MaxPooling2D((2,2)))\n",
    "model.add(layers.Conv2D(64,(3,3),activation='relu'))\n",
    "model.add(layers.MaxPooling2D((2,2)))\n",
    "model.add(layers.Conv2D(64,(3,3),activation='relu'))\n",
    "model.add(layers.Flatten())\n",
    "model.add(layers.Dense(64,activation='relu'))\n",
    "model.add(layers.Dense(1,activation='sigmoid'))\n",
    "lr_scheduler = keras.optimizers.schedules.ExponentialDecay(initial_learning_rate=1e-4,decay_steps=100,decay_rate=0.9)\n",
    "model.compile(optimizer=keras.optimizers.Adam(learning_rate=lr_scheduler),loss='binary_crossentropy',metrics=['accuracy'])\n",
    "early_stopping = keras.callbacks.EarlyStopping(monitor='val_accuracy',patience=5,restore_best_weights=True)\n",
    "num_epochs = 100\n",
    "model.fit(X_train,y_train,epochs=num_epochs,validation_data=(X_val,y_val),callbacks=[early_stopping])\n",
    "test_loss,test_accuracy = model.evaluate(X_test,y_test)\n",
    "print(f'Test accuracy: {test_accuracy}')\n",
    "predictions = model.predict(X_test)"
   ]
  },
  {
   "cell_type": "code",
   "execution_count": 6,
   "metadata": {
    "id": "BLHPFJ2Wc_jl"
   },
   "outputs": [
    {
     "name": "stderr",
     "output_type": "stream",
     "text": [
      "WARNING:absl:You are saving your model as an HDF5 file via `model.save()` or `keras.saving.save_model(model)`. This file format is considered legacy. We recommend using instead the native Keras format, e.g. `model.save('my_model.keras')` or `keras.saving.save_model(model, 'my_model.keras')`. \n"
     ]
    }
   ],
   "source": [
    "model.save(\"./model/heard_disease_predictor.h5\")"
   ]
  },
  {
   "cell_type": "code",
   "execution_count": null,
   "metadata": {},
   "outputs": [],
   "source": []
  }
 ],
 "metadata": {
  "accelerator": "TPU",
  "colab": {
   "authorship_tag": "ABX9TyNLWosbwm+tmkpJhKoKWgl/",
   "include_colab_link": true,
   "provenance": []
  },
  "kernelspec": {
   "display_name": "Python 3 (ipykernel)",
   "language": "python",
   "name": "python3"
  },
  "language_info": {
   "codemirror_mode": {
    "name": "ipython",
    "version": 3
   },
   "file_extension": ".py",
   "mimetype": "text/x-python",
   "name": "python",
   "nbconvert_exporter": "python",
   "pygments_lexer": "ipython3",
   "version": "3.12.2"
  }
 },
 "nbformat": 4,
 "nbformat_minor": 4
}
