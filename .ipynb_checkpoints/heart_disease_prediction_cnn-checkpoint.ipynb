{
  "nbformat": 4,
  "nbformat_minor": 0,
  "metadata": {
    "colab": {
      "provenance": [],
      "authorship_tag": "ABX9TyNLWosbwm+tmkpJhKoKWgl/",
      "include_colab_link": true
    },
    "kernelspec": {
      "name": "python3",
      "display_name": "Python 3"
    },
    "language_info": {
      "name": "python"
    },
    "accelerator": "TPU"
  },
  "cells": [
    {
      "cell_type": "markdown",
      "metadata": {
        "id": "view-in-github",
        "colab_type": "text"
      },
      "source": [
        "<a href=\"https://colab.research.google.com/github/SUDAR2005/heart-disease-predictor/blob/main/heart_disease_prediction_cnn.ipynb\" target=\"_parent\"><img src=\"https://colab.research.google.com/assets/colab-badge.svg\" alt=\"Open In Colab\"/></a>"
      ]
    },
    {
      "cell_type": "markdown",
      "source": [
        "Establishing connection with Goggle drive"
      ],
      "metadata": {
        "id": "s0GX-u9wew8P"
      }
    },
    {
      "cell_type": "code",
      "source": [
        "from google.colab import drive\n",
        "drive.mount('/content/drive')"
      ],
      "metadata": {
        "colab": {
          "base_uri": "https://localhost:8080/"
        },
        "id": "vQ5zc9GJcInX",
        "outputId": "015eb514-54c2-4113-d853-3efe518a1a6e"
      },
      "execution_count": null,
      "outputs": [
        {
          "output_type": "stream",
          "name": "stdout",
          "text": [
            "Mounted at /content/drive\n"
          ]
        }
      ]
    },
    {
      "cell_type": "markdown",
      "source": [
        "Importing Libraries"
      ],
      "metadata": {
        "id": "bo-xMC6nesfm"
      }
    },
    {
      "cell_type": "code",
      "source": [
        "import os\n",
        "import cv2\n",
        "import numpy as np"
      ],
      "metadata": {
        "id": "-I1jcm0CfTJr"
      },
      "execution_count": null,
      "outputs": []
    },
    {
      "cell_type": "markdown",
      "source": [
        "Defining preprocessing function"
      ],
      "metadata": {
        "id": "S4u2KvtJfMyX"
      }
    },
    {
      "cell_type": "code",
      "source": [
        "\n",
        "def preprocess_image(image_path,target_size=(224,224)):\n",
        "    image=cv2.imread(image_path)\n",
        "    image=cv2.resize(image,target_size)\n",
        "    image=image.astype(np.float32) / 255.0\n",
        "    return image"
      ],
      "metadata": {
        "id": "5SegxjnkfV3Q"
      },
      "execution_count": null,
      "outputs": []
    },
    {
      "cell_type": "markdown",
      "source": [
        "Loading and preprocessing the Image"
      ],
      "metadata": {
        "id": "j0zPSA9lff_x"
      }
    },
    {
      "cell_type": "code",
      "source": [
        "\n",
        "image_dir='./Cardiac_dataset'\n",
        "image_paths=[os.path.join(image_dir,filename) for filename in os.listdir(image_dir) if filename.endswith('.jpg')]\n",
        "preprocessed_images=[]\n",
        "labels=[]\n",
        "for image_path in image_paths:\n",
        "    preprocessed_images.append(preprocess_image(image_path))\n",
        "    if \"Normal\" in image_path:\n",
        "        labels.append(0)  # Assigning the label 0 for \"healthy\" images\n",
        "    else:\n",
        "        labels.append(1)  # Assigning the label 1 for \"diseased\" images\n",
        "X=np.array(preprocessed_images)\n",
        "y=np.array(labels)"
      ],
      "metadata": {
        "id": "NSrfAjn9fsOS"
      },
      "execution_count": null,
      "outputs": []
    },
    {
      "cell_type": "markdown",
      "source": [
        "Data Splitting"
      ],
      "metadata": {
        "id": "rVNItwucgXBk"
      }
    },
    {
      "cell_type": "code",
      "source": [
        "from sklearn.model_selection import train_test_split\n",
        "X_train, X_temp, y_train, y_temp = train_test_split(X, y, test_size=0.3, random_state=42)\n",
        "X_val, X_test, y_val, y_test = train_test_split(X_temp, y_temp, test_size=0.5, random_state=42)"
      ],
      "metadata": {
        "id": "4DzV4ifwgetX"
      },
      "execution_count": null,
      "outputs": []
    },
    {
      "cell_type": "markdown",
      "source": [
        "Training Our model with features like max pooling, fully connected neural networks and learning rate sheduling"
      ],
      "metadata": {
        "id": "DHXR9mpxgyKs"
      }
    },
    {
      "cell_type": "code",
      "source": [
        "import tensorflow as tf\n",
        "from tensorflow import keras\n",
        "from tensorflow.keras import layers\n",
        "model = keras.Sequential()\n",
        "model.add(layers.Conv2D(32,(3,3),activation='relu',input_shape=(224,224,3)))\n",
        "model.add(layers.MaxPooling2D((2,2)))\n",
        "model.add(layers.Conv2D(64,(3,3),activation='relu'))\n",
        "model.add(layers.MaxPooling2D((2,2)))\n",
        "model.add(layers.Conv2D(64,(3,3),activation='relu'))\n",
        "model.add(layers.Flatten())\n",
        "model.add(layers.Dense(64,activation='relu'))\n",
        "model.add(layers.Dense(1,activation='sigmoid'))\n",
        "lr_scheduler = keras.optimizers.schedules.ExponentialDecay(initial_learning_rate=1e-4,decay_steps=100,decay_rate=0.9)\n",
        "model.compile(optimizer=keras.optimizers.Adam(learning_rate=lr_scheduler),loss='binary_crossentropy',metrics=['accuracy'])\n",
        "early_stopping = keras.callbacks.EarlyStopping(monitor='val_accuracy',patience=5,restore_best_weights=True)\n",
        "num_epochs = 100\n",
        "model.fit(X_train,y_train,epochs=num_epochs,validation_data=(X_val,y_val),callbacks=[early_stopping])\n",
        "test_loss,test_accuracy = model.evaluate(X_test,y_test)\n",
        "print(f'Test accuracy: {test_accuracy}')\n",
        "predictions = model.predict(X_test)"
      ],
      "metadata": {
        "id": "CmDupbjGhsGx",
        "colab": {
          "base_uri": "https://localhost:8080/"
        },
        "outputId": "3ecf9518-7e07-4c7a-e2ec-b9837a71f206"
      },
      "execution_count": null,
      "outputs": [
        {
          "output_type": "stream",
          "name": "stdout",
          "text": [
            "Epoch 1/100\n",
            "21/21 [==============================] - 86s 4s/step - loss: 0.6726 - accuracy: 0.6810 - val_loss: 0.6009 - val_accuracy: 0.7050\n",
            "Epoch 2/100\n",
            "21/21 [==============================] - 88s 4s/step - loss: 0.6201 - accuracy: 0.6810 - val_loss: 0.5852 - val_accuracy: 0.7050\n",
            "Epoch 3/100\n",
            "21/21 [==============================] - 83s 4s/step - loss: 0.6099 - accuracy: 0.6810 - val_loss: 0.5813 - val_accuracy: 0.7050\n",
            "Epoch 4/100\n",
            "21/21 [==============================] - 89s 4s/step - loss: 0.5625 - accuracy: 0.6810 - val_loss: 0.5260 - val_accuracy: 0.7050\n",
            "Epoch 5/100\n",
            "21/21 [==============================] - 92s 4s/step - loss: 0.5303 - accuracy: 0.7735 - val_loss: 0.5000 - val_accuracy: 0.7050\n",
            "Epoch 6/100\n",
            "21/21 [==============================] - 90s 4s/step - loss: 0.4752 - accuracy: 0.7812 - val_loss: 0.4384 - val_accuracy: 0.8561\n",
            "Epoch 7/100\n",
            "21/21 [==============================] - 85s 4s/step - loss: 0.4168 - accuracy: 0.8136 - val_loss: 0.3851 - val_accuracy: 0.8849\n",
            "Epoch 8/100\n",
            "21/21 [==============================] - 86s 4s/step - loss: 0.3535 - accuracy: 0.8475 - val_loss: 0.4744 - val_accuracy: 0.7554\n",
            "Epoch 9/100\n",
            "21/21 [==============================] - 84s 4s/step - loss: 0.3262 - accuracy: 0.8567 - val_loss: 0.3751 - val_accuracy: 0.7554\n",
            "Epoch 10/100\n",
            "21/21 [==============================] - 90s 4s/step - loss: 0.2592 - accuracy: 0.9214 - val_loss: 0.3527 - val_accuracy: 0.8058\n",
            "Epoch 11/100\n",
            "21/21 [==============================] - 85s 4s/step - loss: 0.2366 - accuracy: 0.9060 - val_loss: 0.2588 - val_accuracy: 0.8921\n",
            "Epoch 12/100\n",
            "21/21 [==============================] - 95s 5s/step - loss: 0.1961 - accuracy: 0.9384 - val_loss: 0.2561 - val_accuracy: 0.9065\n",
            "Epoch 13/100\n",
            "21/21 [==============================] - 85s 4s/step - loss: 0.1733 - accuracy: 0.9476 - val_loss: 0.2221 - val_accuracy: 0.8993\n",
            "Epoch 14/100\n",
            "21/21 [==============================] - 91s 4s/step - loss: 0.1613 - accuracy: 0.9384 - val_loss: 0.1972 - val_accuracy: 0.9353\n",
            "Epoch 15/100\n",
            "21/21 [==============================] - 83s 4s/step - loss: 0.1371 - accuracy: 0.9615 - val_loss: 0.1796 - val_accuracy: 0.9353\n",
            "Epoch 16/100\n",
            "21/21 [==============================] - 90s 4s/step - loss: 0.1217 - accuracy: 0.9676 - val_loss: 0.1663 - val_accuracy: 0.9496\n",
            "Epoch 17/100\n",
            "21/21 [==============================] - 84s 4s/step - loss: 0.1027 - accuracy: 0.9831 - val_loss: 0.1651 - val_accuracy: 0.9281\n",
            "Epoch 18/100\n",
            "21/21 [==============================] - 91s 4s/step - loss: 0.0991 - accuracy: 0.9738 - val_loss: 0.1601 - val_accuracy: 0.9353\n",
            "Epoch 19/100\n",
            "21/21 [==============================] - 85s 4s/step - loss: 0.0896 - accuracy: 0.9784 - val_loss: 0.1453 - val_accuracy: 0.9496\n",
            "Epoch 20/100\n",
            "21/21 [==============================] - 90s 4s/step - loss: 0.0838 - accuracy: 0.9831 - val_loss: 0.1517 - val_accuracy: 0.9353\n",
            "Epoch 21/100\n",
            "21/21 [==============================] - 84s 4s/step - loss: 0.0998 - accuracy: 0.9753 - val_loss: 0.1382 - val_accuracy: 0.9640\n",
            "Epoch 22/100\n",
            "21/21 [==============================] - 90s 4s/step - loss: 0.1051 - accuracy: 0.9753 - val_loss: 0.1838 - val_accuracy: 0.9137\n",
            "Epoch 23/100\n",
            "21/21 [==============================] - 84s 4s/step - loss: 0.0821 - accuracy: 0.9815 - val_loss: 0.1276 - val_accuracy: 0.9640\n",
            "Epoch 24/100\n",
            "21/21 [==============================] - 87s 4s/step - loss: 0.0580 - accuracy: 0.9954 - val_loss: 0.1433 - val_accuracy: 0.9496\n",
            "Epoch 25/100\n",
            "21/21 [==============================] - 85s 4s/step - loss: 0.0589 - accuracy: 0.9938 - val_loss: 0.1203 - val_accuracy: 0.9496\n",
            "Epoch 26/100\n",
            "21/21 [==============================] - 84s 4s/step - loss: 0.0590 - accuracy: 0.9908 - val_loss: 0.1342 - val_accuracy: 0.9568\n",
            "5/5 [==============================] - 6s 1s/step - loss: 0.1377 - accuracy: 0.9571\n",
            "Test accuracy: 0.9571428298950195\n",
            "5/5 [==============================] - 4s 689ms/step\n"
          ]
        }
      ]
    },
    {
      "cell_type": "code",
      "source": [
        "model.save(\"./model/heard_disease_predictor.h5\")"
      ],
      "metadata": {
        "id": "BLHPFJ2Wc_jl"
      },
      "execution_count": null,
      "outputs": []
    }
  ]
}